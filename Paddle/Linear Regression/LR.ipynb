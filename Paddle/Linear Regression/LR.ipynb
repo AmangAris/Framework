{
 "cells": [
  {
   "cell_type": "markdown",
   "metadata": {},
   "source": [
    "首先我们引入必要的库："
   ]
  },
  {
   "cell_type": "code",
   "execution_count": 2,
   "metadata": {
    "ExecuteTime": {
     "end_time": "2020-10-27T13:13:34.848891Z",
     "start_time": "2020-10-27T13:13:34.845866Z"
    }
   },
   "outputs": [],
   "source": [
    "from __future__ import print_function\n",
    "import paddle\n",
    "import paddle.fluid as fluid\n",
    "import numpy\n",
    "import math\n",
    "import sys\n",
    "import six"
   ]
  },
  {
   "cell_type": "markdown",
   "metadata": {},
   "source": [
    "接下来我们定义了用于训练的数据提供器。提供器每次读入一个大小为BATCH_SIZE的数据批次。如果用户希望加一些随机性，它可以同时定义一个批次大小和一个缓存大小。这样的话，每次数据提供器会从缓存中随机读取批次大小那么多的数据。"
   ]
  },
  {
   "cell_type": "code",
   "execution_count": 2,
   "metadata": {
    "ExecuteTime": {
     "end_time": "2020-10-27T13:03:29.879384Z",
     "start_time": "2020-10-27T13:03:29.349287Z"
    }
   },
   "outputs": [
    {
     "name": "stderr",
     "output_type": "stream",
     "text": [
      "Cache file C:\\Users\\Dell/.cache/paddle/dataset\\uci_housing\\housing.data not found, downloading http://paddlemodels.bj.bcebos.com/uci_housing/housing.data \n",
      "Begin to download\n",
      "............\n",
      "Download finished\n"
     ]
    }
   ],
   "source": [
    "BATCH_SIZE = 20\n",
    "\n",
    "train_reader = fluid.io.batch(\n",
    "    fluid.io.shuffle(\n",
    "        paddle.dataset.uci_housing.train(), buf_size=500),\n",
    "        batch_size=BATCH_SIZE)\n",
    "\n",
    "test_reader = fluid.io.batch(\n",
    "    fluid.io.shuffle(\n",
    "        paddle.dataset.uci_housing.test(), buf_size=500),\n",
    "        batch_size=BATCH_SIZE)"
   ]
  },
  {
   "cell_type": "markdown",
   "metadata": {},
   "source": [
    "如果想直接从txt文件中读取数据的话，可以参考以下方式(需要自行准备txt文件)。"
   ]
  },
  {
   "cell_type": "code",
   "execution_count": 4,
   "metadata": {
    "ExecuteTime": {
     "end_time": "2020-10-27T13:13:48.474085Z",
     "start_time": "2020-10-27T13:13:48.458299Z"
    }
   },
   "outputs": [],
   "source": [
    "filename = 'housing.txt'\n",
    "BATCH_SIZE = 20\n",
    "\n",
    "\n",
    "feature_names = [\n",
    "    'CRIM', 'ZN', 'INDUS', 'CHAS', 'NOX', 'RM', 'AGE', 'DIS', 'RAD', 'TAX',\n",
    "    'PTRATIO', 'B', 'LSTAT', 'convert'\n",
    "]\n",
    "feature_num = len(feature_names)\n",
    "data = numpy.fromfile(filename, sep=' ') # 从文件中读取原始数据\n",
    "data = data.reshape(data.shape[0] // feature_num, feature_num)\n",
    "maximums, minimums, avgs = data.max(axis=0), data.min(axis=0), data.sum(axis=0)/data.shape[0]\n",
    "\n",
    "for i in six.moves.range(feature_num-1):\n",
    "    data[:, i] = (data[:, i] - avgs[i]) / (maximums[i] - minimums[i]) # six.moves可以兼容python2和python3\n",
    "\n",
    "ratio = 0.8 # 训练集和验证集的划分比例\n",
    "offset = int(data.shape[0]*ratio)\n",
    "train_data = data[:offset]\n",
    "test_data = data[offset:]\n",
    "\n",
    "def reader_creator(train_data):  \n",
    "    def reader():  \n",
    "        for d in train_data:  \n",
    "            yield d[:-1], d[-1:]  \n",
    "    return reader\n",
    "\n",
    "train_reader = fluid.io.batch(\n",
    "    fluid.io.shuffle(\n",
    "        reader_creator(train_data), buf_size=500),\n",
    "        batch_size=BATCH_SIZE)\n",
    "\n",
    "test_reader = fluid.io.batch(\n",
    "    fluid.io.shuffle(\n",
    "        reader_creator(test_data), buf_size=500),\n",
    "        batch_size=BATCH_SIZE)"
   ]
  },
  {
   "cell_type": "markdown",
   "metadata": {},
   "source": [
    "配置训练程序\n",
    "\n",
    "训练程序的目的是定义一个训练模型的网络结构。对于线性回归来讲，它就是一个从输入到输出的简单的全连接层。更加复杂的结果，比如卷积神经网络，递归神经网络等会在随后的章节中介绍。训练程序必须返回平均损失作为第一个返回值，因为它会被后面反向传播算法所用到。"
   ]
  },
  {
   "cell_type": "code",
   "execution_count": 5,
   "metadata": {
    "ExecuteTime": {
     "end_time": "2020-10-27T13:14:54.137015Z",
     "start_time": "2020-10-27T13:14:54.035798Z"
    }
   },
   "outputs": [],
   "source": [
    "x = fluid.data(name='x', shape=[None, 13], dtype='float32') # 定义输入的形状和数据类型\n",
    "y = fluid.data(name='y', shape=[None, 1], dtype='float32') # 定义输出的形状和数据类型\n",
    "y_predict = fluid.layers.fc(input=x, size=1, act=None) # 连接输入和输出的全连接层\n",
    "\n",
    "main_program = fluid.default_main_program() # 获取默认/全局主函数\n",
    "startup_program = fluid.default_startup_program() # 获取默认/全局启动程序\n",
    "\n",
    "cost = fluid.layers.square_error_cost(input=y_predict, label=y) # 利用标签数据和输出的预测数据估计方差\n",
    "avg_loss = fluid.layers.mean(cost) # 对方差求均值，得到平均损失"
   ]
  },
  {
   "cell_type": "markdown",
   "metadata": {},
   "source": [
    "Optimizer Function 配置\n",
    "\n",
    "在下面的 SGD optimizer，learning_rate 是学习率，与网络的训练收敛速度有关系。"
   ]
  },
  {
   "cell_type": "code",
   "execution_count": 7,
   "metadata": {
    "ExecuteTime": {
     "end_time": "2020-10-27T13:16:48.290916Z",
     "start_time": "2020-10-27T13:16:48.279847Z"
    }
   },
   "outputs": [],
   "source": [
    "#克隆main_program得到test_program\n",
    "#有些operator在训练和测试之间的操作是不同的，例如batch_norm，使用参数for_test来区分该程序是用来训练还是用来测试\n",
    "#该api不会删除任何操作符,请在backward和optimization之前使用\n",
    "test_program = main_program.clone(for_test=True)\n",
    "\n",
    "sgd_optimizer = fluid.optimizer.SGD(learning_rate=0.001)\n",
    "_ = sgd_optimizer.minimize(avg_loss)"
   ]
  },
  {
   "cell_type": "markdown",
   "metadata": {},
   "source": [
    "定义运算场所\n",
    "\n",
    "我们可以定义运算是发生在CPU还是GPU"
   ]
  },
  {
   "cell_type": "code",
   "execution_count": 9,
   "metadata": {
    "ExecuteTime": {
     "end_time": "2020-10-27T13:17:08.952304Z",
     "start_time": "2020-10-27T13:17:08.948828Z"
    }
   },
   "outputs": [],
   "source": [
    "use_cuda = True\n",
    "place = fluid.CUDAPlace(0) if use_cuda else fluid.CPUPlace() # 指明executor的执行场所\n",
    "\n",
    "###executor可以接受传入的program，并根据feed map(输入映射表)和fetch list(结果获取表)向program中添加数据输入算子和结果获取算子。使用close()关闭该executor，调用run(...)执行program。\n",
    "exe = fluid.Executor(place)"
   ]
  },
  {
   "cell_type": "markdown",
   "metadata": {},
   "source": [
    "创建训练过程\n",
    "\n",
    "训练需要有一个训练程序和一些必要参数，并构建了一个获取训练过程中测试误差的函数。必要参数有executor,program,reader,feeder,fetch_list，executor表示之前创建的执行器，program表示执行器所执行的program，是之前创建的program，如果该项参数没有给定的话则默认使用default_main_program，reader表示读取到的数据，feeder表示前向输入的变量，fetch_list表示用户想得到的变量或者命名的结果。"
   ]
  },
  {
   "cell_type": "code",
   "execution_count": 10,
   "metadata": {
    "ExecuteTime": {
     "end_time": "2020-10-27T13:17:27.906204Z",
     "start_time": "2020-10-27T13:17:27.900779Z"
    }
   },
   "outputs": [],
   "source": [
    "num_epochs = 100\n",
    "\n",
    "def train_test(executor, program, reader, feeder, fetch_list):\n",
    "    accumulated = 1 * [0]\n",
    "    count = 0\n",
    "    for data_test in reader():\n",
    "        outs = executor.run(program=program,\n",
    "                            feed=feeder.feed(data_test),\n",
    "                            fetch_list=fetch_list)\n",
    "        accumulated = [x_c[0] + x_c[1][0] for x_c in zip(accumulated, outs)] # 累加测试过程中的损失值\n",
    "        count += 1 # 累加测试集中的样本数量\n",
    "    return [x_d / count for x_d in accumulated] # 计算平均损失"
   ]
  },
  {
   "cell_type": "markdown",
   "metadata": {},
   "source": [
    "训练主循环\n",
    "\n",
    "给出需要存储的目录名，并初始化一个执行器。"
   ]
  },
  {
   "cell_type": "code",
   "execution_count": 11,
   "metadata": {
    "ExecuteTime": {
     "end_time": "2020-10-27T13:18:00.809180Z",
     "start_time": "2020-10-27T13:17:56.401100Z"
    }
   },
   "outputs": [],
   "source": [
    "%matplotlib inline\n",
    "params_dirname = \"fit_a_line.inference.model\"\n",
    "feeder = fluid.DataFeeder(place=place, feed_list=[x, y])\n",
    "exe.run(startup_program)\n",
    "train_prompt = \"train cost\"\n",
    "test_prompt = \"test cost\"\n",
    "from paddle.utils.plot import Ploter\n",
    "plot_prompt = Ploter(train_prbompt, test_prompt)\n",
    "step = 0\n",
    "\n",
    "exe_test = fluid.Executor(place)"
   ]
  },
  {
   "cell_type": "markdown",
   "metadata": {},
   "source": [
    "paddlepaddle提供了reader机制来读取训练数据。reader会一次提供多列数据，因此我们需要一个python的列表来定义读取顺序。我们构建一个循环来进行训练，直到训练结果足够好或者循环次数足够多。 如果训练迭代次数满足参数保存的迭代次数，可以把训练参数保存到params_dirname。 设置训练主循环"
   ]
  },
  {
   "cell_type": "code",
   "execution_count": 12,
   "metadata": {
    "ExecuteTime": {
     "end_time": "2020-10-27T13:30:05.065612Z",
     "start_time": "2020-10-27T13:18:28.019287Z"
    }
   },
   "outputs": [
    {
     "data": {
      "image/png": "[encoded data removed]",
      "text/plain": [
       "<Figure size 432x288 with 1 Axes>"
      ]
     },
     "metadata": {},
     "output_type": "display_data"
    },
    {
     "name": "stdout",
     "output_type": "stream",
     "text": [
      "train cost, Step 2090, Cost 26.208342\n"
     ]
    },
    {
     "data": {
      "text/plain": [
       "<Figure size 432x288 with 0 Axes>"
      ]
     },
     "metadata": {},
     "output_type": "display_data"
    }
   ],
   "source": [
    "for pass_id in range(num_epochs):\n",
    "    for data_train in train_reader():\n",
    "        avg_loss_value, = exe.run(main_program,\n",
    "                                  feed=feeder.feed(data_train),\n",
    "                                  fetch_list=[avg_loss])\n",
    "        if step % 10 == 0: # 每10个批次记录并输出一下训练损失\n",
    "            plot_prompt.append(train_prompt, step, avg_loss_value[0])\n",
    "            plot_prompt.plot()\n",
    "            print(\"%s, Step %d, Cost %f\" %\n",
    "\t                  (train_prompt, step, avg_loss_value[0]))\n",
    "        if step % 100 == 0:  # 每100批次记录并输出一下测试损失\n",
    "            test_metics = train_test(executor=exe_test,\n",
    "                                     program=test_program,\n",
    "                                     reader=test_reader,\n",
    "                                     fetch_list=[avg_loss.name],\n",
    "                                     feeder=feeder)\n",
    "            plot_prompt.append(test_prompt, step, test_metics[0])\n",
    "            plot_prompt.plot()\n",
    "            print(\"%s, Step %d, Cost %f\" %\n",
    "\t                  (test_prompt, step, test_metics[0]))\n",
    "            if test_metics[0] < 10.0: # 如果准确率达到要求，则停止训练\n",
    "                break\n",
    "\n",
    "        step += 1\n",
    "\n",
    "        if math.isnan(float(avg_loss_value[0])):\n",
    "            sys.exit(\"got NaN loss, training failed.\")\n",
    "\n",
    "        #保存训练参数到之前给定的路径中\n",
    "        if params_dirname is not None:\n",
    "            fluid.io.save_inference_model(params_dirname, ['x'], [y_predict], exe)"
   ]
  },
  {
   "cell_type": "markdown",
   "metadata": {},
   "source": [
    "Amazing!!!!!动态画学习效果图"
   ]
  },
  {
   "cell_type": "markdown",
   "metadata": {},
   "source": [
    "# 预测"
   ]
  },
  {
   "cell_type": "markdown",
   "metadata": {},
   "source": [
    "需要构建一个使用训练好的参数来进行预测的程序，训练好的参数位置在params_dirname。\n",
    "\n",
    "准备预测环境\n",
    "\n",
    "类似于训练过程，预测器需要一个预测程序来做预测。我们可以稍加修改我们的训练程序来把预测值包含进来。"
   ]
  },
  {
   "cell_type": "code",
   "execution_count": 13,
   "metadata": {
    "ExecuteTime": {
     "end_time": "2020-10-27T13:31:53.445026Z",
     "start_time": "2020-10-27T13:31:53.442357Z"
    }
   },
   "outputs": [],
   "source": [
    "infer_exe = fluid.Executor(place)\n",
    "inference_scope = fluid.core.Scope()"
   ]
  },
  {
   "cell_type": "markdown",
   "metadata": {},
   "source": [
    "预测\n",
    "\n",
    "保存图片"
   ]
  },
  {
   "cell_type": "code",
   "execution_count": 14,
   "metadata": {
    "ExecuteTime": {
     "end_time": "2020-10-27T13:31:56.176383Z",
     "start_time": "2020-10-27T13:31:56.171294Z"
    }
   },
   "outputs": [],
   "source": [
    "def save_result(points1, points2):\n",
    "    import matplotlib\n",
    "    matplotlib.use('Agg')\n",
    "    import matplotlib.pyplot as plt\n",
    "    x1 = [idx for idx in range(len(points1))]\n",
    "    y1 = points1\n",
    "    y2 = points2\n",
    "    l1 = plt.plot(x1, y1, 'r--', label='predictions')\n",
    "    l2 = plt.plot(x1, y2, 'g--', label='GT')\n",
    "    plt.plot(x1, y1, 'ro-', x1, y2, 'g+-')\n",
    "    plt.title('predictions VS GT')\n",
    "    plt.legend()\n",
    "    plt.savefig('./image/prediction_gt.png')"
   ]
  },
  {
   "cell_type": "markdown",
   "metadata": {},
   "source": [
    "通过fluid.io.load_inference_model，预测器会从params_dirname中读取已经训练好的模型，来对从未遇见过的数据进行预测。"
   ]
  },
  {
   "cell_type": "code",
   "execution_count": 15,
   "metadata": {
    "ExecuteTime": {
     "end_time": "2020-10-27T13:31:59.718709Z",
     "start_time": "2020-10-27T13:31:58.158602Z"
    }
   },
   "outputs": [
    {
     "name": "stdout",
     "output_type": "stream",
     "text": [
      "infer results: (House Price)\n",
      "0: 13.14\n",
      "1: 13.90\n",
      "2: 12.87\n",
      "3: 16.42\n",
      "4: 14.04\n",
      "5: 15.69\n",
      "6: 14.71\n",
      "7: 14.39\n",
      "8: 9.68\n",
      "9: 13.75\n",
      "\n",
      "ground truth:\n",
      "0: 8.50\n",
      "1: 5.00\n",
      "2: 11.90\n",
      "3: 27.90\n",
      "4: 17.20\n",
      "5: 27.50\n",
      "6: 15.00\n",
      "7: 17.20\n",
      "8: 17.90\n",
      "9: 16.30\n"
     ]
    },
    {
     "data": {
      "image/png": "[encoded data removed]",
      "text/plain": [
       "<Figure size 432x288 with 1 Axes>"
      ]
     },
     "metadata": {
      "needs_background": "light"
     },
     "output_type": "display_data"
    }
   ],
   "source": [
    "with fluid.scope_guard(inference_scope):\n",
    "    [inference_program, feed_target_names,\n",
    "     fetch_targets] = fluid.io.load_inference_model(params_dirname, infer_exe) # 载入预训练模型\n",
    "    batch_size = 10\n",
    "\n",
    "    infer_reader = fluid.io.batch(\n",
    "        paddle.dataset.uci_housing.test(), batch_size=batch_size) # 准备测试集\n",
    "\n",
    "    infer_data = next(infer_reader())\n",
    "    infer_feat = numpy.array(\n",
    "        [data[0] for data in infer_data]).astype(\"float32\") # 提取测试集中的数据\n",
    "    infer_label = numpy.array(\n",
    "        [data[1] for data in infer_data]).astype(\"float32\") # 提取测试集中的标签\n",
    "\n",
    "    assert feed_target_names[0] == 'x'\n",
    "    results = infer_exe.run(inference_program,\n",
    "                            feed={feed_target_names[0]: numpy.array(infer_feat)},\n",
    "                            fetch_list=fetch_targets) # 进行预测\n",
    "    #打印预测结果和标签并可视化结果\n",
    "    print(\"infer results: (House Price)\")\n",
    "    for idx, val in enumerate(results[0]):\n",
    "        print(\"%d: %.2f\" % (idx, val)) # 打印预测结果\n",
    "\n",
    "    print(\"\\nground truth:\")\n",
    "    for idx, val in enumerate(infer_label):\n",
    "        print(\"%d: %.2f\" % (idx, val)) # 打印标签值\n",
    "\n",
    "    save_result(results[0], infer_label) # 保存图片\n"
   ]
  }
 ],
 "metadata": {
  "kernelspec": {
   "display_name": "Python [conda env:all] *",
   "language": "python",
   "name": "conda-env-all-py"
  },
  "toc": {
   "base_numbering": 1,
   "nav_menu": {},
   "number_sections": true,
   "sideBar": true,
   "skip_h1_title": false,
   "title_cell": "Table of Contents",
   "title_sidebar": "Contents",
   "toc_cell": false,
   "toc_position": {},
   "toc_section_display": true,
   "toc_window_display": false
  }
 },
 "nbformat": 4,
 "nbformat_minor": 4
}
